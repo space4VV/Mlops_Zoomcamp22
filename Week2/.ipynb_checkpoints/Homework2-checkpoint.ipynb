{
 "cells": [
  {
   "cell_type": "code",
   "execution_count": 3,
   "id": "189a23e7",
   "metadata": {},
   "outputs": [
    {
     "name": "stdout",
     "output_type": "stream",
     "text": [
      "# conda environments:\n",
      "#\n",
      "                         C:\\Anaconda\n",
      "base                     C:\\Users\\vvvis\\Anaconda3\n",
      "mlopszoomcamp         *  C:\\Users\\vvvis\\Anaconda3\\envs\\mlopszoomcamp\n",
      "tensorflow               C:\\Users\\vvvis\\Anaconda3\\envs\\tensorflow\n",
      "\n"
     ]
    }
   ],
   "source": [
    "!conda info --envs"
   ]
  },
  {
   "cell_type": "code",
   "execution_count": 4,
   "id": "4c11acf0",
   "metadata": {},
   "outputs": [],
   "source": [
    "# the name of the active env is shown with *"
   ]
  },
  {
   "cell_type": "code",
   "execution_count": 42,
   "id": "827fc893",
   "metadata": {},
   "outputs": [],
   "source": [
    "import  mlflow\n",
    "import sklearn\n",
    "import matplotlib.pyplot as plt"
   ]
  },
  {
   "cell_type": "code",
   "execution_count": 43,
   "id": "383a19a8",
   "metadata": {},
   "outputs": [
    {
     "name": "stdout",
     "output_type": "stream",
     "text": [
      "1.26.1\n",
      "1.0.2\n"
     ]
    }
   ],
   "source": [
    "print(mlflow.__version__)\n",
    "print(sklearn.__version__)"
   ]
  },
  {
   "cell_type": "markdown",
   "id": "02bf0b2c",
   "metadata": {},
   "source": [
    "## preprocess the data"
   ]
  },
  {
   "cell_type": "code",
   "execution_count": 10,
   "id": "194b65dc",
   "metadata": {},
   "outputs": [],
   "source": [
    "!python preprocess.py --raw_data_path taxi_data --dest_path ./output"
   ]
  },
  {
   "cell_type": "code",
   "execution_count": 11,
   "id": "f10323e4",
   "metadata": {},
   "outputs": [],
   "source": [
    "#there are 4 files inside the output folder after the training"
   ]
  },
  {
   "cell_type": "markdown",
   "id": "10b3d986",
   "metadata": {},
   "source": [
    "## Train"
   ]
  },
  {
   "cell_type": "code",
   "execution_count": 36,
   "id": "ccbf2efb",
   "metadata": {},
   "outputs": [],
   "source": [
    "import mlflow\n",
    "\n",
    "\n",
    "mlflow.set_tracking_uri(\"sqlite:///mlflow.db\")"
   ]
  },
  {
   "cell_type": "code",
   "execution_count": 41,
   "id": "9f2fc56c",
   "metadata": {},
   "outputs": [
    {
     "name": "stderr",
     "output_type": "stream",
     "text": [
      "2022/06/01 23:03:32 INFO mlflow.tracking.fluent: Experiment with name 'random_forest_regressor_1' does not exist. Creating a new experiment.\n"
     ]
    },
    {
     "data": {
      "text/plain": [
       "<Experiment: artifact_location='./mlruns/5', experiment_id='5', lifecycle_stage='active', name='random_forest_regressor_1', tags={}>"
      ]
     },
     "execution_count": 41,
     "metadata": {},
     "output_type": "execute_result"
    }
   ],
   "source": [
    "mlflow.set_experiment(\"random_forest_regressor_1\")"
   ]
  },
  {
   "cell_type": "code",
   "execution_count": null,
   "id": "e0922876",
   "metadata": {},
   "outputs": [],
   "source": [
    "import argparse\n",
    "import os\n",
    "import pickle\n",
    "import mlflow\n",
    "from sklearn.ensemble import RandomForestRegressor\n",
    "from sklearn.metrics import mean_squared_error\n",
    "\n",
    "\n",
    "\n",
    "def load_pickle(filename: str):\n",
    "    with open(filename, \"rb\") as f_in:\n",
    "        return pickle.load(f_in)\n",
    "\n",
    "\n",
    "def run(data_path):\n",
    "    mlflow.sklearn.autolog()\n",
    "\n",
    "    X_train, y_train = load_pickle(os.path.join(data_path, \"train.pkl\"))\n",
    "    X_valid, y_valid = load_pickle(os.path.join(data_path, \"valid.pkl\"))\n",
    "    \n",
    "    with mlflow.start_run():\n",
    "\n",
    "        rf = RandomForestRegressor(max_depth=10, random_state=0)\n",
    "        rf.fit(X_train, y_train)\n",
    "        y_pred = rf.predict(X_valid)\n",
    "\n",
    "        rmse = mean_squared_error(y_valid, y_pred, squared=False)\n",
    "\n",
    "\n",
    "if __name__ == '__main__':\n",
    "\n",
    "    parser = argparse.ArgumentParser()\n",
    "    parser.add_argument(\n",
    "        \"--data_path\",\n",
    "        default=\"./output\",\n",
    "        help=\"the location where the processed NYC taxi trip data was saved.\"\n",
    "    )\n",
    "    args = parser.parse_args()\n",
    "\n",
    "    run(args.data_path)"
   ]
  },
  {
   "cell_type": "code",
   "execution_count": 45,
   "id": "7aaf9bdb",
   "metadata": {},
   "outputs": [
    {
     "name": "stderr",
     "output_type": "stream",
     "text": [
      "2022/06/01 23:12:47 INFO mlflow.tracking.fluent: Experiment with name 'random_forest_regressor_2' does not exist. Creating a new experiment.\n"
     ]
    }
   ],
   "source": [
    "!python train.py --data_path ./output"
   ]
  },
  {
   "cell_type": "markdown",
   "id": "82fefc11",
   "metadata": {},
   "source": [
    "## tracking server locally + local artifacts and sqlite db as backend"
   ]
  },
  {
   "cell_type": "code",
   "execution_count": 48,
   "id": "812c46bb",
   "metadata": {},
   "outputs": [],
   "source": [
    "mlflow.set_tracking_uri(\"http://127.0.0.1:5000\")"
   ]
  },
  {
   "cell_type": "code",
   "execution_count": 50,
   "id": "63c33105",
   "metadata": {},
   "outputs": [
    {
     "name": "stdout",
     "output_type": "stream",
     "text": [
      "\n",
      "  0%|          | 0/50 [00:00<?, ?trial/s, best loss=?]\n",
      "  2%|2         | 1/50 [00:28<22:58, 28.14s/trial, best loss: 6.658956269343007]\n",
      "  4%|4         | 2/50 [00:28<09:38, 12.06s/trial, best loss: 6.658956269343007]\n",
      "  6%|6         | 3/50 [00:30<05:48,  7.42s/trial, best loss: 6.658956269343007]\n",
      "  8%|8         | 4/50 [00:46<08:16, 10.79s/trial, best loss: 6.651438559376775]\n",
      " 10%|#         | 5/50 [00:54<07:21,  9.81s/trial, best loss: 6.651438559376775]\n",
      " 12%|#2        | 6/50 [01:23<11:51, 16.16s/trial, best loss: 6.651438559376775]\n",
      " 14%|#4        | 7/50 [01:49<13:54, 19.40s/trial, best loss: 6.651438559376775]\n",
      " 16%|#6        | 8/50 [01:52<09:50, 14.06s/trial, best loss: 6.651438559376775]\n",
      " 18%|#8        | 9/50 [02:07<09:50, 14.41s/trial, best loss: 6.651438559376775]\n",
      " 20%|##        | 10/50 [02:20<09:16, 13.92s/trial, best loss: 6.651438559376775]\n",
      " 22%|##2       | 11/50 [02:31<08:28, 13.04s/trial, best loss: 6.642137287429206]\n",
      " 24%|##4       | 12/50 [02:39<07:17, 11.51s/trial, best loss: 6.642137287429206]\n",
      " 26%|##6       | 13/50 [02:41<05:28,  8.89s/trial, best loss: 6.642137287429206]\n",
      " 28%|##8       | 14/50 [02:53<05:52,  9.79s/trial, best loss: 6.642137287429206]\n",
      " 30%|###       | 15/50 [03:13<07:26, 12.77s/trial, best loss: 6.642137287429206]\n",
      " 32%|###2      | 16/50 [03:22<06:36, 11.67s/trial, best loss: 6.642137287429206]\n",
      " 34%|###4      | 17/50 [03:38<07:07, 12.97s/trial, best loss: 6.642137287429206]\n",
      " 36%|###6      | 18/50 [04:05<09:04, 17.03s/trial, best loss: 6.629728007710133]\n",
      " 38%|###8      | 19/50 [04:10<07:03, 13.67s/trial, best loss: 6.629728007710133]\n",
      " 40%|####      | 20/50 [04:14<05:18, 10.62s/trial, best loss: 6.629728007710133]\n",
      " 42%|####2     | 21/50 [04:51<08:57, 18.54s/trial, best loss: 6.629728007710133]\n",
      " 44%|####4     | 22/50 [05:19<09:58, 21.38s/trial, best loss: 6.629728007710133]\n",
      " 46%|####6     | 23/50 [06:05<12:55, 28.73s/trial, best loss: 6.629728007710133]\n",
      " 48%|####8     | 24/50 [06:40<13:16, 30.64s/trial, best loss: 6.629728007710133]\n",
      " 50%|#####     | 25/50 [07:06<12:11, 29.24s/trial, best loss: 6.629728007710133]\n",
      " 52%|#####2    | 26/50 [07:33<11:25, 28.57s/trial, best loss: 6.629728007710133]\n",
      " 54%|#####4    | 27/50 [07:46<09:07, 23.81s/trial, best loss: 6.629728007710133]\n",
      " 56%|#####6    | 28/50 [08:19<09:50, 26.83s/trial, best loss: 6.629728007710133]\n",
      " 58%|#####8    | 29/50 [08:29<07:31, 21.52s/trial, best loss: 6.629728007710133]\n",
      " 60%|######    | 30/50 [08:58<07:56, 23.83s/trial, best loss: 6.629728007710133]\n",
      " 62%|######2   | 31/50 [08:59<05:21, 16.91s/trial, best loss: 6.629728007710133]\n",
      " 64%|######4   | 32/50 [09:16<05:06, 17.01s/trial, best loss: 6.629728007710133]\n",
      " 66%|######6   | 33/50 [09:45<05:51, 20.70s/trial, best loss: 6.629728007710133]\n",
      " 68%|######8   | 34/50 [10:13<06:05, 22.87s/trial, best loss: 6.6284257482044735]\n",
      " 70%|#######   | 35/50 [10:31<05:19, 21.27s/trial, best loss: 6.6284257482044735]\n",
      " 72%|#######2  | 36/50 [10:50<04:49, 20.66s/trial, best loss: 6.6284257482044735]\n",
      " 74%|#######4  | 37/50 [10:50<03:09, 14.60s/trial, best loss: 6.6284257482044735]\n",
      " 76%|#######6  | 38/50 [11:12<03:19, 16.65s/trial, best loss: 6.6284257482044735]\n",
      " 78%|#######8  | 39/50 [11:39<03:38, 19.87s/trial, best loss: 6.6284257482044735]\n",
      " 80%|########  | 40/50 [12:22<04:26, 26.70s/trial, best loss: 6.6284257482044735]\n",
      " 82%|########2 | 41/50 [12:28<03:03, 20.44s/trial, best loss: 6.6284257482044735]\n",
      " 84%|########4 | 42/50 [12:40<02:24, 18.01s/trial, best loss: 6.6284257482044735]\n",
      " 86%|########6 | 43/50 [13:02<02:14, 19.18s/trial, best loss: 6.6284257482044735]\n",
      " 88%|########8 | 44/50 [13:24<02:01, 20.21s/trial, best loss: 6.6284257482044735]\n",
      " 90%|######### | 45/50 [13:35<01:26, 17.35s/trial, best loss: 6.6284257482044735]\n",
      " 92%|#########2| 46/50 [13:39<00:53, 13.43s/trial, best loss: 6.6284257482044735]\n",
      " 94%|#########3| 47/50 [14:03<00:49, 16.49s/trial, best loss: 6.6284257482044735]\n",
      " 96%|#########6| 48/50 [14:12<00:28, 14.37s/trial, best loss: 6.6284257482044735]\n",
      " 98%|#########8| 49/50 [14:32<00:15, 15.80s/trial, best loss: 6.6284257482044735]\n",
      "100%|##########| 50/50 [14:54<00:00, 17.82s/trial, best loss: 6.6284257482044735]\n",
      "100%|##########| 50/50 [14:54<00:00, 17.89s/trial, best loss: 6.6284257482044735]\n"
     ]
    },
    {
     "name": "stderr",
     "output_type": "stream",
     "text": [
      "2022/06/01 23:31:03 INFO mlflow.tracking.fluent: Experiment with name 'random-forest-hyperopt' does not exist. Creating a new experiment.\n",
      "2022/06/01 23:41:30 INFO mlflow.tracking.fluent: Experiment with name 'random-forest-hyperopt_1' does not exist. Creating a new experiment.\n"
     ]
    },
    {
     "name": "stdout",
     "output_type": "stream",
     "text": [
      "\n",
      "  0%|          | 0/50 [00:00<?, ?trial/s, best loss=?]\n",
      "  2%|2         | 1/50 [00:31<25:34, 31.31s/trial, best loss: 6.658956269343007]\n",
      "  4%|4         | 2/50 [00:32<10:55, 13.66s/trial, best loss: 6.658956269343007]\n",
      "  6%|6         | 3/50 [00:34<06:26,  8.22s/trial, best loss: 6.658956269343007]\n",
      "  8%|8         | 4/50 [00:52<09:10, 11.96s/trial, best loss: 6.651438559376775]\n",
      " 10%|#         | 5/50 [01:00<07:59, 10.65s/trial, best loss: 6.651438559376775]\n",
      " 12%|#2        | 6/50 [01:43<16:00, 21.83s/trial, best loss: 6.651438559376775]\n",
      " 14%|#4        | 7/50 [02:19<18:56, 26.44s/trial, best loss: 6.651438559376775]\n",
      " 16%|#6        | 8/50 [02:24<13:35, 19.43s/trial, best loss: 6.651438559376775]\n",
      " 18%|#8        | 9/50 [02:43<13:10, 19.27s/trial, best loss: 6.651438559376775]\n",
      " 20%|##        | 10/50 [02:57<11:52, 17.82s/trial, best loss: 6.651438559376775]\n",
      " 22%|##2       | 11/50 [03:10<10:40, 16.42s/trial, best loss: 6.642137287429206]\n",
      " 24%|##4       | 12/50 [03:20<09:07, 14.40s/trial, best loss: 6.642137287429206]\n",
      " 26%|##6       | 13/50 [03:24<06:57, 11.28s/trial, best loss: 6.642137287429206]\n",
      " 28%|##8       | 14/50 [03:39<07:23, 12.31s/trial, best loss: 6.642137287429206]\n",
      " 30%|###       | 15/50 [04:00<08:36, 14.76s/trial, best loss: 6.642137287429206]\n",
      " 32%|###2      | 16/50 [04:11<07:43, 13.64s/trial, best loss: 6.642137287429206]\n",
      " 34%|###4      | 17/50 [04:30<08:27, 15.37s/trial, best loss: 6.642137287429206]\n",
      " 36%|###6      | 18/50 [04:54<09:38, 18.09s/trial, best loss: 6.629728007710133]\n",
      " 38%|###8      | 19/50 [05:00<07:26, 14.42s/trial, best loss: 6.629728007710133]\n",
      " 40%|####      | 20/50 [05:04<05:37, 11.26s/trial, best loss: 6.629728007710133]\n",
      " 42%|####2     | 21/50 [05:39<08:52, 18.38s/trial, best loss: 6.629728007710133]\n",
      " 44%|####4     | 22/50 [06:12<10:34, 22.67s/trial, best loss: 6.629728007710133]\n",
      " 46%|####6     | 23/50 [07:18<16:08, 35.86s/trial, best loss: 6.629728007710133]\n",
      " 48%|####8     | 24/50 [08:13<17:59, 41.52s/trial, best loss: 6.629728007710133]\n",
      " 50%|#####     | 25/50 [08:52<16:54, 40.59s/trial, best loss: 6.629728007710133]\n",
      " 52%|#####2    | 26/50 [09:38<16:56, 42.33s/trial, best loss: 6.629728007710133]\n",
      " 54%|#####4    | 27/50 [10:01<14:01, 36.58s/trial, best loss: 6.629728007710133]\n",
      " 56%|#####6    | 28/50 [10:47<14:26, 39.37s/trial, best loss: 6.629728007710133]\n",
      " 58%|#####8    | 29/50 [11:00<11:01, 31.49s/trial, best loss: 6.629728007710133]\n",
      " 60%|######    | 30/50 [11:33<10:40, 32.02s/trial, best loss: 6.629728007710133]\n",
      " 62%|######2   | 31/50 [11:34<07:12, 22.74s/trial, best loss: 6.629728007710133]\n",
      " 64%|######4   | 32/50 [11:52<06:20, 21.12s/trial, best loss: 6.629728007710133]\n",
      " 66%|######6   | 33/50 [12:25<07:03, 24.90s/trial, best loss: 6.629728007710133]\n",
      " 68%|######8   | 34/50 [12:55<07:01, 26.31s/trial, best loss: 6.6284257482044735]\n",
      " 70%|#######   | 35/50 [13:09<05:40, 22.68s/trial, best loss: 6.6284257482044735]\n",
      " 72%|#######2  | 36/50 [13:25<04:47, 20.50s/trial, best loss: 6.6284257482044735]\n",
      " 74%|#######4  | 37/50 [13:25<03:07, 14.45s/trial, best loss: 6.6284257482044735]\n",
      " 76%|#######6  | 38/50 [13:46<03:15, 16.30s/trial, best loss: 6.6284257482044735]\n",
      " 78%|#######8  | 39/50 [14:13<03:36, 19.65s/trial, best loss: 6.6284257482044735]\n",
      " 80%|########  | 40/50 [14:41<03:41, 22.14s/trial, best loss: 6.6284257482044735]\n",
      " 82%|########2 | 41/50 [14:45<02:30, 16.68s/trial, best loss: 6.6284257482044735]\n",
      " 84%|########4 | 42/50 [14:58<02:04, 15.60s/trial, best loss: 6.6284257482044735]\n",
      " 86%|########6 | 43/50 [15:15<01:52, 16.07s/trial, best loss: 6.6284257482044735]\n",
      " 88%|########8 | 44/50 [15:36<01:44, 17.46s/trial, best loss: 6.6284257482044735]\n",
      " 90%|######### | 45/50 [15:45<01:15, 15.02s/trial, best loss: 6.6284257482044735]\n",
      " 92%|#########2| 46/50 [15:47<00:44, 11.15s/trial, best loss: 6.6284257482044735]\n",
      " 94%|#########3| 47/50 [16:03<00:37, 12.37s/trial, best loss: 6.6284257482044735]\n",
      " 96%|#########6| 48/50 [16:11<00:22, 11.08s/trial, best loss: 6.6284257482044735]\n",
      " 98%|#########8| 49/50 [16:26<00:12, 12.45s/trial, best loss: 6.6284257482044735]\n",
      "100%|##########| 50/50 [16:45<00:00, 14.26s/trial, best loss: 6.6284257482044735]\n",
      "100%|##########| 50/50 [16:45<00:00, 20.11s/trial, best loss: 6.6284257482044735]\n"
     ]
    }
   ],
   "source": [
    "!python hypo.py"
   ]
  },
  {
   "cell_type": "markdown",
   "id": "dad02fb6",
   "metadata": {},
   "source": [
    "## Promote the best model to the model registry"
   ]
  },
  {
   "cell_type": "code",
   "execution_count": 54,
   "id": "94a1f42b",
   "metadata": {},
   "outputs": [],
   "source": [
    "from mlflow.tracking import MlflowClient\n",
    "client = MlflowClient()\n",
    "experiment = client.get_experiment_by_name('random-forest-hyperopt_1')\n",
    "best_run = client.search_runs( experiment_ids=experiment.experiment_id  )[0]"
   ]
  },
  {
   "cell_type": "code",
   "execution_count": 60,
   "id": "511f244c",
   "metadata": {},
   "outputs": [
    {
     "data": {
      "text/plain": [
       "'3f26d8f51a534fa9af1b53468f5c3fa1'"
      ]
     },
     "execution_count": 60,
     "metadata": {},
     "output_type": "execute_result"
    }
   ],
   "source": [
    "best_run.info.run_id"
   ]
  },
  {
   "cell_type": "code",
   "execution_count": 66,
   "id": "00811ffc",
   "metadata": {},
   "outputs": [
    {
     "name": "stderr",
     "output_type": "stream",
     "text": [
      "2022/06/02 00:31:21 INFO mlflow.tracking.fluent: Experiment with name 'random-forest-best-models_1' does not exist. Creating a new experiment.\n",
      "Successfully registered model 'random-forest-best'.\n",
      "2022/06/02 00:34:36 INFO mlflow.tracking._model_registry.client: Waiting up to 300 seconds for model version to finish creation.                     Model name: random-forest-best, version 1\n",
      "Created version '1' of model 'random-forest-best'.\n"
     ]
    }
   ],
   "source": [
    "!python register_model.py"
   ]
  },
  {
   "cell_type": "code",
   "execution_count": 64,
   "id": "6b5c45d5",
   "metadata": {},
   "outputs": [],
   "source": [
    "experiment = client.get_experiment_by_name('random-forest-best-models')\n",
    "best_run1 = client.search_runs( experiment_ids=experiment.experiment_id ,order_by=[\"metrics.test_rmse DESC\"] )[0]\n"
   ]
  },
  {
   "cell_type": "code",
   "execution_count": 65,
   "id": "752509b1",
   "metadata": {},
   "outputs": [
    {
     "data": {
      "text/plain": [
       "<Run: data=<RunData: metrics={'test_rmse': 6.549816636724069,\n",
       " 'training_mae': 3.7785117890805413,\n",
       " 'training_mse': 30.60450474365528,\n",
       " 'training_r2_score': 0.7711041421908643,\n",
       " 'training_rmse': 5.532133832767903,\n",
       " 'training_score': 0.7711041421908643,\n",
       " 'valid_rmse': 6.629728007710133}, params={'bootstrap': 'True',\n",
       " 'ccp_alpha': '0.0',\n",
       " 'criterion': 'squared_error',\n",
       " 'max_depth': '20',\n",
       " 'max_features': 'auto',\n",
       " 'max_leaf_nodes': 'None',\n",
       " 'max_samples': 'None',\n",
       " 'min_impurity_decrease': '0.0',\n",
       " 'min_samples_leaf': '2',\n",
       " 'min_samples_split': '3',\n",
       " 'min_weight_fraction_leaf': '0.0',\n",
       " 'n_estimators': '23',\n",
       " 'n_jobs': 'None',\n",
       " 'oob_score': 'False',\n",
       " 'random_state': '42',\n",
       " 'verbose': '0',\n",
       " 'warm_start': 'False'}, tags={'estimator_class': 'sklearn.ensemble._forest.RandomForestRegressor',\n",
       " 'estimator_name': 'RandomForestRegressor',\n",
       " 'mlflow.log-model.history': '[{\"run_id\": \"e82ea2e1fd5b44548a88c27fe1f663d0\", '\n",
       "                             '\"artifact_path\": \"model\", \"utc_time_created\": '\n",
       "                             '\"2022-06-01 22:22:57.548260\", \"flavors\": '\n",
       "                             '{\"python_function\": {\"model_path\": \"model.pkl\", '\n",
       "                             '\"loader_module\": \"mlflow.sklearn\", '\n",
       "                             '\"python_version\": \"3.7.4\", \"env\": \"conda.yaml\"}, '\n",
       "                             '\"sklearn\": {\"pickled_model\": \"model.pkl\", '\n",
       "                             '\"sklearn_version\": \"1.0.2\", '\n",
       "                             '\"serialization_format\": \"cloudpickle\", \"code\": '\n",
       "                             'null}}, \"model_uuid\": '\n",
       "                             '\"134fed372d0143789a2dc5ebac57b05d\", '\n",
       "                             '\"mlflow_version\": \"1.26.1\", \"signature\": '\n",
       "                             '{\"inputs\": \"[{\\\\\"type\\\\\": \\\\\"tensor\\\\\", '\n",
       "                             '\\\\\"tensor-spec\\\\\": {\\\\\"dtype\\\\\": \\\\\"float64\\\\\", '\n",
       "                             '\\\\\"shape\\\\\": [-1, 13221]}}]\", \"outputs\": '\n",
       "                             '\"[{\\\\\"type\\\\\": \\\\\"tensor\\\\\", \\\\\"tensor-spec\\\\\": '\n",
       "                             '{\\\\\"dtype\\\\\": \\\\\"float64\\\\\", \\\\\"shape\\\\\": '\n",
       "                             '[-1]}}]\"}}]',\n",
       " 'mlflow.source.git.commit': '569e8641579c9d4f6f70ed8823b874989ece8672',\n",
       " 'mlflow.source.name': 'register_model.py',\n",
       " 'mlflow.source.type': 'LOCAL',\n",
       " 'mlflow.user': 'Vishnu'}>, info=<RunInfo: artifact_uri='./artifacts_local/3/e82ea2e1fd5b44548a88c27fe1f663d0/artifacts', end_time=1654122186018, experiment_id='3', lifecycle_stage='active', run_id='e82ea2e1fd5b44548a88c27fe1f663d0', run_uuid='e82ea2e1fd5b44548a88c27fe1f663d0', start_time=1654122149296, status='FINISHED', user_id='Vishnu'>>"
      ]
     },
     "execution_count": 65,
     "metadata": {},
     "output_type": "execute_result"
    }
   ],
   "source": [
    "best_run1"
   ]
  },
  {
   "cell_type": "code",
   "execution_count": null,
   "id": "39600912",
   "metadata": {},
   "outputs": [],
   "source": []
  }
 ],
 "metadata": {
  "kernelspec": {
   "display_name": "Python 3 (ipykernel)",
   "language": "python",
   "name": "python3"
  },
  "language_info": {
   "codemirror_mode": {
    "name": "ipython",
    "version": 3
   },
   "file_extension": ".py",
   "mimetype": "text/x-python",
   "name": "python",
   "nbconvert_exporter": "python",
   "pygments_lexer": "ipython3",
   "version": "3.7.4"
  }
 },
 "nbformat": 4,
 "nbformat_minor": 5
}
